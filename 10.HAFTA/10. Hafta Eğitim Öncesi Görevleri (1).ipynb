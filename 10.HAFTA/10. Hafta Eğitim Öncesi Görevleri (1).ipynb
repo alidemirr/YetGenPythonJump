{
 "cells": [
  {
   "attachments": {},
   "cell_type": "markdown",
   "metadata": {},
   "source": [
    "# Problem 1"
   ]
  },
  {
   "cell_type": "code",
   "execution_count": 7,
   "metadata": {},
   "outputs": [
    {
     "name": "stdout",
     "output_type": "stream",
     "text": [
      "Matris:\n",
      "[6 3 2 1 3]\n",
      "Matris Boyutu:\n",
      "(5,)\n",
      "Yeniden Boyutlandırılmış Matris:\n",
      "[[6 3 2 1 3]]\n",
      "Matris Boyut Sayısı:\n",
      "1\n"
     ]
    }
   ],
   "source": [
    "# 1 - numpy kütüphanesini import edin\n",
    "\n",
    "# 2 - 0 ile 10 arasında 5 sayıdan oluşan matris üretin\n",
    "\n",
    "# 3 - matris'in boyutunu öğrenin\n",
    "\n",
    "# 4 - matris'i yeniden boyutlandırın\n",
    "\n",
    "# 5 - matris'in boyut sayısını öğrenin\n",
    "import numpy as np\n",
    "matris = np.random.randint(0, 10, size=(5,))\n",
    "boyut = matris.shape\n",
    "yeniden_boyutlanmis_matris = matris.reshape((1, 5))\n",
    "boyut_sayisi = matris.ndim\n",
    "\n",
    "print(\"Matris:\")\n",
    "print(matris)\n",
    "print(\"Matris Boyutu:\")\n",
    "print(boyut)\n",
    "print(\"Yeniden Boyutlandırılmış Matris:\")\n",
    "print(yeniden_boyutlanmis_matris)\n",
    "print(\"Matris Boyut Sayısı:\")\n",
    "print(boyut_sayisi)"
   ]
  },
  {
   "attachments": {},
   "cell_type": "markdown",
   "metadata": {},
   "source": [
    "# Problem 2"
   ]
  },
  {
   "cell_type": "code",
   "execution_count": 11,
   "metadata": {},
   "outputs": [
    {
     "name": "stdout",
     "output_type": "stream",
     "text": [
      "Oluşturulan Matris:\n",
      "[1 3 5 7 9]\n",
      "Parçalanan Matrisler:\n",
      "[array([1, 3, 5]), array([7, 9])]\n",
      "Birleştirilmiş Matris:\n",
      "[1 3 5 7 9]\n"
     ]
    }
   ],
   "source": [
    "# 1 - 0 ile 10 arasında bulunan tek sayılardan oluşan matris üretin\n",
    "\n",
    "# 2 - Oluşturduğunuz matrisi parçalayın\n",
    "\n",
    "# 3 - Parçalanmış matrisleri birleştirin\n",
    "import numpy as np\n",
    "matris = np.arange(1, 11, 2)\n",
    "parcalar = np.array_split(matris, 2)\n",
    "birlesik_matris = np.concatenate(parcalar)\n",
    "\n",
    "print(\"Oluşturulan Matris:\")\n",
    "print(matris)\n",
    "print(\"Parçalanan Matrisler:\")\n",
    "print(parcalar)\n",
    "print(\"Birleştirilmiş Matris:\")\n",
    "print(birlesik_matris)"
   ]
  },
  {
   "attachments": {},
   "cell_type": "markdown",
   "metadata": {},
   "source": [
    "# Problem 3"
   ]
  },
  {
   "cell_type": "code",
   "execution_count": 12,
   "metadata": {},
   "outputs": [
    {
     "name": "stdout",
     "output_type": "stream",
     "text": [
      "Matris:\n",
      "[97 77 23 33 85 13 63 43 31 93]\n",
      "Boyut: (10,)\n",
      "Eleman Sayısı: 10\n",
      "En Küçük Değer: 13\n",
      "En Büyük Değer: 97\n",
      "Ortalama: 55.8\n"
     ]
    }
   ],
   "source": [
    "# 1 - 5 ile 100 arasında ikişer ikişer atlayarak rastgele 10 sayıdan oluşan matris üretin\n",
    "\n",
    "# 2 - matris'in özelliklerini inceleyin\n",
    "import numpy as np\n",
    "matris = np.random.choice(np.arange(5, 101, 2), size=(10,), replace=False)\n",
    "boyut = matris.shape\n",
    "eleman_sayisi = matris.size\n",
    "en_kucuk = np.min(matris)\n",
    "en_buyuk = np.max(matris)\n",
    "ortalama = np.mean(matris)\n",
    "\n",
    "print(\"Matris:\")\n",
    "print(matris)\n",
    "print(\"Boyut:\", boyut)\n",
    "print(\"Eleman Sayısı:\", eleman_sayisi)\n",
    "print(\"En Küçük Değer:\", en_kucuk)\n",
    "print(\"En Büyük Değer:\", en_buyuk)\n",
    "print(\"Ortalama:\", ortalama)"
   ]
  }
 ],
 "metadata": {
  "kernelspec": {
   "display_name": "Python 3",
   "language": "python",
   "name": "python3"
  },
  "language_info": {
   "codemirror_mode": {
    "name": "ipython",
    "version": 3
   },
   "file_extension": ".py",
   "mimetype": "text/x-python",
   "name": "python",
   "nbconvert_exporter": "python",
   "pygments_lexer": "ipython3",
   "version": "3.11.1"
  },
  "orig_nbformat": 4,
  "vscode": {
   "interpreter": {
    "hash": "5026d2d6e7aaaaba093def813beadff083d8733e4a511af01735cbabd156995d"
   }
  }
 },
 "nbformat": 4,
 "nbformat_minor": 2
}
