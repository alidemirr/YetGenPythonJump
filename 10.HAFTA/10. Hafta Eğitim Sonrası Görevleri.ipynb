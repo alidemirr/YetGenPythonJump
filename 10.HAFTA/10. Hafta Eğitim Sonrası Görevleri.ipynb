{
 "cells": [
  {
   "attachments": {},
   "cell_type": "markdown",
   "metadata": {},
   "source": [
    "# Problem 1 "
   ]
  },
  {
   "cell_type": "code",
   "execution_count": 1,
   "metadata": {},
   "outputs": [
    {
     "name": "stdout",
     "output_type": "stream",
     "text": [
      "[1 2 3 4 6]\n"
     ]
    }
   ],
   "source": [
    "# 1 - numpy kütüphanesini import edin\n",
    "\n",
    "# 2 - 5 elemanlı bir numpy array oluşturun\n",
    "\n",
    "# 3 - Oluşturduğunuz arrayi küçükten büyüğe sıralayın.\n",
    "import numpy as np\n",
    "\n",
    "array = np.array([4, 2, 6, 1, 3])\n",
    "\n",
    "siralanan_array = np.sort(array)\n",
    "print(siralanan_array)"
   ]
  },
  {
   "attachments": {},
   "cell_type": "markdown",
   "metadata": {},
   "source": [
    "# Problem 2"
   ]
  },
  {
   "cell_type": "code",
   "execution_count": 4,
   "metadata": {},
   "outputs": [
    {
     "name": "stdout",
     "output_type": "stream",
     "text": [
      "Üretilen Matris:\n",
      "[[ 29 -19  39  37  41]\n",
      " [ -3 -12   5  27 -44]\n",
      " [  3 -46 -48  -8  30]]\n",
      "\n",
      "Pozitif Çift Sayılar:\n",
      "[30]\n"
     ]
    }
   ],
   "source": [
    "\n",
    "import numpy as np\n",
    "\n",
    "# 1- (10,15,30,45,60) değerlerine sahip numpy dizisi oluşturma\n",
    "dizi1 = np.array([10, 15, 30, 45, 60])\n",
    "\n",
    "# 2- (5-15) arasındaki sayılarla numpy dizisi oluşturma\n",
    "dizi2 = np.arange(5, 16)\n",
    "\n",
    "# 3- (50-100) arasında 5'er 5'er artarak numpy dizisi oluşturma\n",
    "dizi3 = np.arange(50, 101, 5)\n",
    "\n",
    "# 4- 10 elemanlı sıfırlardan oluşan bir dizi oluşturma\n",
    "dizi4 = np.zeros(10)\n",
    "\n",
    "# 5- 10 elemanlı birlerden oluşan bir dizi oluşturma\n",
    "dizi5 = np.ones(10)\n",
    "\n",
    "# 6- (0-100) arasında eşit aralıklı 5 sayı üretme\n",
    "dizi6 = np.linspace(0, 100, 5)\n",
    "\n",
    "# 7- (10-30) arasında rastgele 5 tamsayı üretme\n",
    "dizi7 = np.random.randint(10, 31, size=5)\n",
    "\n",
    "# 8- [-1 ile 1] arasında 10 adet sayı üretme\n",
    "dizi8 = np.random.uniform(-1, 1, size=10)\n",
    "\n",
    "# 9- (3x5) boyutlarında (10-50) arasında rastgele bir matris oluşturma\n",
    "matris = np.random.randint(10, 51, size=(3, 5))\n",
    "\n",
    "# 10- Üretilen matrisin satır ve sütun sayıları toplamlarını hesaplama\n",
    "satir_toplamlari = np.sum(matris, axis=1)\n",
    "sutun_toplamlari = np.sum(matris, axis=0)\n",
    "\n",
    "# 11- Üretilen matrisin en büyük, en küçük ve ortalaması\n",
    "en_buyuk = np.max(matris)\n",
    "en_kucuk = np.min(matris)\n",
    "ortalama = np.mean(matris)\n",
    "\n",
    "# 12- Üretilen matrisin en büyük değerinin indeksi\n",
    "en_buyuk_indeks = np.argmax(matris)\n",
    "\n",
    "# 13- (10-20) arasındaki sayıları içeren dizinin ilk 3 elemanını seçme\n",
    "dizi13 = np.arange(10, 21)\n",
    "ilk_uc_eleman = dizi13[:3]\n",
    "\n",
    "# 14- Üretilen dizinin elemanlarını tersten yazdırma\n",
    "tersten_yazdirma = np.flip(dizi13)\n",
    "\n",
    "# 15- Üretilen matrisin ilk satırını seçme\n",
    "ilk_satir = matris[0]\n",
    "\n",
    "# 16- Üretilen matrisin 2.satır 3.sütundaki elemanı\n",
    "eleman = matris[1, 2]\n",
    "\n",
    "# 17- Üretilen matrisin tüm satırlardaki ilk elemanı seçme\n",
    "ilk_elemanlar = matris[:, 0]\n",
    "\n",
    "# 18- Üretilen matris elemanlarının karesini alma\n",
    "kareler = np.square(matris)\n",
    "\n",
    "# 19- Üretilen matris elemanlarının hangisi pozitif çift sayıdır ? Aralığı (-50,+50) arasında yapınız.\n",
    "matris = np.random.randint(-50, 51, size=(3, 5))\n",
    "filtre = (matris % 2 == 0) & (matris > 0)\n",
    "pozitif_cift_sayilar = matris[filtre]\n",
    "\n",
    "print(\"Üretilen Matris:\")\n",
    "print(matris)\n",
    "print(\"\\nPozitif Çift Sayılar:\")\n",
    "print(pozitif_cift_sayilar)"
   ]
  }
 ],
 "metadata": {
  "kernelspec": {
   "display_name": "Python 3",
   "language": "python",
   "name": "python3"
  },
  "language_info": {
   "codemirror_mode": {
    "name": "ipython",
    "version": 3
   },
   "file_extension": ".py",
   "mimetype": "text/x-python",
   "name": "python",
   "nbconvert_exporter": "python",
   "pygments_lexer": "ipython3",
   "version": "3.11.1"
  },
  "orig_nbformat": 4,
  "vscode": {
   "interpreter": {
    "hash": "5026d2d6e7aaaaba093def813beadff083d8733e4a511af01735cbabd156995d"
   }
  }
 },
 "nbformat": 4,
 "nbformat_minor": 2
}
