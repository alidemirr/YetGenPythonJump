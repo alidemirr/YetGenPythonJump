{
  "cells": [
    {
      "cell_type": "markdown",
      "metadata": {
        "id": "tsD4YVAe_Te2"
      },
      "source": [
        "# Problem 1\n",
        "Bir sayının 7'ye bölünebilir olup olmadığını kontrol etmek \n",
        "için bir program yazın.\n",
        "\n",
        "İpucu: Mod operatörünü (%) kullanabilirsiniz."
      ]
    },
    {
      "cell_type": "code",
      "execution_count": 2,
      "metadata": {
        "id": "NGjvNwKx_Te7"
      },
      "outputs": [
        {
          "name": "stdout",
          "output_type": "stream",
          "text": [
            "girdiğiniz sayı 7'ye tam bölünüyor\n"
          ]
        }
      ],
      "source": [
        "sayi = int(input(\"bir sayı giriniz :\"))\n",
        "if sayi%7 == 0:\n",
        "    print(\"girdiğiniz sayı 7'ye tam bölünüyor\")\n",
        "else:\n",
        "    print(\"girdiğiniz sayı 7'ye tam bölünmüyor\")\n",
        "  "
      ]
    },
    {
      "cell_type": "markdown",
      "metadata": {
        "id": "Kg3qiBAI_Te8"
      },
      "source": [
        "# Problem 2\n",
        "Kullanıcıdan vize ve final notu isteyin. Girilen vize notunun %40’ı ve \n",
        "girilen finalnotunun ise %60’ı alınarak yıl sonu not ortalaması hesaplanacaktır. \n",
        "\n",
        "Bu not ortalaması eğer 85 ve üzeri ise AA, \n",
        "\n",
        "75 ve 85 arasında ise BA, \n",
        "\n",
        "70 ve 75 arasında ise BB, \n",
        "\n",
        "65 ve 70 arasında ise CB,\n",
        "\n",
        "60 ve 65 arasında ise CC,\n",
        "\n",
        "55 ve 60 arasında ise DC,\n",
        "\n",
        "50 ve 55 arasında ise DD olarak hesaplanacaktır. \n",
        "\n",
        "Bu öğrencinin yıl sonu toplam notu 50’nin altında ise FF ile dersten kalacaktır. \n",
        "\n",
        "Ayrıca öğrencinin final notu 50’nin altında ise direkt FF ile kalacaktır."
      ]
    },
    {
      "cell_type": "code",
      "execution_count": 3,
      "metadata": {
        "id": "MXTtCxI1_Te8"
      },
      "outputs": [
        {
          "name": "stdout",
          "output_type": "stream",
          "text": [
            "Dersi CC ile geçtiniz\n"
          ]
        }
      ],
      "source": [
        "vizenotu = int(input(\"vize notunuzu giriniz:\"))\n",
        "finalnotu = int(input(\"final notunuzu giriniz:\"))\n",
        "notunuz = vizenotu*0.4 + finalnotu*0.6\n",
        "if notunuz>=85 and notunuz<=100:\n",
        "    print(\"Dersi AA ile geçitiniz.\")\n",
        "elif notunuz>=75 and notunuz<85:\n",
        "    print(\"Dersi BA ile geçtiniz\")\n",
        "elif notunuz>=70 and notunuz<75:\n",
        "    print(\"Dersi BB ile geçtiniz\")\n",
        "elif notunuz>=65 and notunuz<70:\n",
        "    print(\"Dersi CB ile geçtiniz\")\n",
        "elif notunuz>=60 and notunuz<65:\n",
        "    print(\"Dersi CC ile geçtiniz\")\n",
        "elif notunuz>=55 and notunuz<60:\n",
        "    print(\"Dersi DC ile geçtiniz\")\n",
        "elif notunuz>=50 and notunuz<55:\n",
        "    print(\"Dersi DD ile geçtiniz\")\n",
        "elif notunuz<50 and notunuz>=0:\n",
        "    print(\"aldığınız not 50'nin altında FF aldınız\")\n",
        "else:\n",
        "    print(\"geçerli bir not giriniz (0 ve 100 aralığında)\")"
      ]
    },
    {
      "cell_type": "markdown",
      "metadata": {
        "id": "tAoRYCTC_Te8"
      },
      "source": [
        "# Problem 3\n",
        "İki YetGenli Zirve'de karşılaşıyorlar. Birbirlerini tanımak için sorular soruyorlar. Birbirlerine yaşlarını soruyorlar. Akıllarına bir Python programı yazıp, yaşlarını ve isimlerini giriyorlar. Büyük olanın yaşını ekrana yazdıran programı yazıyorlar. Sende bu iki YetGenli'ye destek olmak ister misin?\n",
        "\n",
        "```\n",
        "Birinci YetGenlinin ismi: Ahmet\n",
        "Birinci YetGenlinin yaşı : 20\n",
        "İkinci YetGenlinin ismi: Mehmet\n",
        "İkinci YetGenlinin yaşı : 25\n",
        "Mehmet'in yaşı daha büyük ve yaşı 25'tir.\n",
        "```"
      ]
    },
    {
      "cell_type": "code",
      "execution_count": 2,
      "metadata": {
        "id": "bPjE8W0i_Te8"
      },
      "outputs": [
        {
          "name": "stdout",
          "output_type": "stream",
          "text": [
            "fatih' daha büyüktür\n"
          ]
        }
      ],
      "source": [
        "isim1 = input(\"birinci yetgenlinin ismi:\")\n",
        "yas1 = int(input(\"birinci yetgenlinin yaşı:\"))\n",
        "isim2 = input(\"ikinci yetgenlinin ismi:\")\n",
        "yas2 = int(input(\"ikinci yetgenlinin yaşı:\"))\n",
        "\n",
        "if yas1 < yas2:\n",
        "    print(f\"{isim2}' daha büyüktür\")\n",
        "else:\n",
        "    print(f\"{isim1}' daha büyüktür\")\n"
      ]
    },
    {
      "cell_type": "markdown",
      "metadata": {
        "id": "zBVv8Tyg_Te9"
      },
      "source": [
        "# Problem 4\n",
        "Pandemi döneminde AVM'lerde ateş ölçümü yapılıyor. AVM'ye giren kişinin ateş ölçümü 37.5 derecenin altında ise girişe izin veriliyor. 37.5 derecenin üstünde ise girişe izin verilmiyor. AVM'ye girişe izin verilip verilmediğini ekrana yazdıran bir program yazın.\n",
        "\n",
        "Program sonunda şöyle bir çıktı elde etmelisiniz:\n",
        "\n",
        "```\n",
        "Ateşiniz 37.5 derece. AVM'ye girebilirsin! Maske takmayı unutma!\n",
        "Ateşiniz 37.6 derece. AVM'ye giremezsin! Hemen evine dön!\n",
        "```"
      ]
    },
    {
      "cell_type": "code",
      "execution_count": 11,
      "metadata": {
        "id": "TSAXs8et_Te9"
      },
      "outputs": [
        {
          "name": "stdout",
          "output_type": "stream",
          "text": [
            "ateşiniz 10.0 derece.AVM'ye girebilirsiniz.Maske takmayı unutmayın\n"
          ]
        }
      ],
      "source": [
        "ates = float(input(\"ateş derecenizi giriniz\"))\n",
        "if ates <= 37.5:\n",
        "    print(\"ateşiniz {} derece.AVM'ye girebilirsiniz.Maske takmayı unutmayın\".format(ates))\n",
        "else:\n",
        "    print(\"ateşiniz {} derece.AVM'ye giremezsin! Hemen evine dön\".format(ates))   "
      ]
    },
    {
      "cell_type": "markdown",
      "metadata": {
        "id": "6AEkZrDt_Te9"
      },
      "source": [
        "# Problem 5\n",
        "YetGen bir spor kulübüyle sponsorluk anlaşması yapıyor. Kulüp, sponsorluk anlaşmasına göre her YetGen liderinin beden kitle indeksini hesaplamak istiyor. Spor kulübü, beden kitle indeksini hesaplamak için YetGen Jump Python liderlerinden Berkcan ve Ahmet'i arıyor. Berkcan ve Ahmet, kulübe yardımcı olmak için bir Python programı yazıyorlar. Sende bu iki YetGen liderine destek olmak ister misin?\n",
        "\n",
        "Kullanıcıdan alınan boy ve kilo değerlerine göre beden kitle indeksini hesaplayın ve şu kurallara göre ekrana şu yazıları yazdırın.\n",
        "\n",
        "\n",
        "Beden Kitle İndeksi, kişinin ağırlığının (kg olarak) boyunun karesine (m olarak) bölünmesiyle hesaplanır.\n",
        "\n",
        "\n",
        "```\n",
        " BKİ 18.5'un altındaysa -------> Zayıf\n",
        "\n",
        " BKİ 18.5 ile 25 arasındaysa ------> Normal\n",
        "\n",
        " BKİ 25 ile 30 arasındaysa --------> Fazla Kilolu\n",
        "\n",
        " BKİ 30'un üstündeyse -------------> Obez\n",
        "```\n",
        "\n"
      ]
    },
    {
      "cell_type": "code",
      "execution_count": 14,
      "metadata": {
        "id": "t-XPI_u0_Te-"
      },
      "outputs": [
        {
          "name": "stdout",
          "output_type": "stream",
          "text": [
            "normalsiniz\n"
          ]
        }
      ],
      "source": [
        "boy = float(input(\"boyunuzu giriniz(metre cinsinden):\"))\n",
        "kilo = float(input(\"kilonuzu giriniz(kilo cinsinden):\"))\n",
        "bki = kilo/(boy*boy)\n",
        "if bki < 18.5:\n",
        "    print(\"zayıfsınız\")\n",
        "elif bki >= 18.5 and bki <25:\n",
        "    print(\"normalsiniz\")\n",
        "elif bki >= 25 and bki <30:\n",
        "    print(\"fazla kilolusnuz\")\n",
        "elif bki >= 30:\n",
        "    print(\"obezsiniz\")\n"
      ]
    },
    {
      "cell_type": "markdown",
      "metadata": {
        "id": "oFsvQyaO_Te-"
      },
      "source": [
        "# Problem 6\n",
        "Kullanıcıdan isim, yaş ve eğitim bilgilerini isteyip ehliyet alabilme  durumunu kontrol ediniz. \n",
        "\n",
        "Ehliyet alma koşulu en az 18 yaşında ve eğitim durumu lise ya da üniversite olmalıdır. "
      ]
    },
    {
      "cell_type": "code",
      "execution_count": 17,
      "metadata": {
        "id": "Tu2mcgco_Te-"
      },
      "outputs": [
        {
          "name": "stdout",
          "output_type": "stream",
          "text": [
            "ehliyet alamazsınız.\n"
          ]
        }
      ],
      "source": [
        "isim = input(\"isminizi giriniz:\")\n",
        "yas = int(input(\"yaşınızı giriniz:\"))\n",
        "egitim = int(input(\"eğitim durumuz lisesi ise 1'i üniversite ise 2'yi girin.İkiside değilse 3 giriniz.\"))\n",
        "if yas >= 18 and egitim <=2:\n",
        "    print(\"ehliyet alabilirsiniz.\")\n",
        "else:\n",
        "    print(\"ehliyet alamazsınız.\")\n"
      ]
    },
    {
      "cell_type": "markdown",
      "metadata": {
        "id": "eUkxVSAE_Te_"
      },
      "source": [
        "# Problem 7\n",
        "Bir yılın artık yıl olup olmadığını kontrol etmek için bir program yazın. \n",
        "Artık yıl kuralı:\n",
        "\n",
        "a) Eğer yılın son iki basamağı (00) ile bitmiyor ve yalnızca 4'e tam bölünüyorsa artık yıldır. Ya da, \n",
        "\n",
        "b) Eğer yıl 400'e tam bölünüyorsa artık yıldır.\n",
        "\n",
        "**Örneğin**\n",
        "```\n",
        "2017 artık yıl değildir.\n",
        "1900 artık yıl değildir\n",
        "2012 artık yıldır.\n",
        "2000 artık yıldır.\n",
        "```"
      ]
    },
    {
      "cell_type": "code",
      "execution_count": 36,
      "metadata": {
        "id": "4uWh8qUL_Te_"
      },
      "outputs": [
        {
          "name": "stdout",
          "output_type": "stream",
          "text": [
            "2012 artık yıldır\n"
          ]
        }
      ],
      "source": [
        "yıl = input(\"bir yıl giriniz:\")\n",
        "a = int(yıl[0])*1000\n",
        "b = int(yıl[1])*100\n",
        "c = int(yıl[2])*10\n",
        "d = int(yıl[3])*1\n",
        "\n",
        "sonikibasamak = c + d\n",
        "işlemyılı = a + b + c + d\n",
        "\n",
        "if sonikibasamak != 00 and sonikibasamak%4 == 0:\n",
        "    print(f\"{yıl} artık yıldır\")\n",
        "elif işlemyılı%400 == 0:\n",
        "    print(f\"{yıl} artık yıldır\")\n",
        "else:\n",
        "    print(f\"{yıl} artık yıl değildir\")\n"
      ]
    }
  ],
  "metadata": {
    "colab": {
      "provenance": []
    },
    "kernelspec": {
      "display_name": "Python 3.10.5 64-bit",
      "language": "python",
      "name": "python3"
    },
    "language_info": {
      "codemirror_mode": {
        "name": "ipython",
        "version": 3
      },
      "file_extension": ".py",
      "mimetype": "text/x-python",
      "name": "python",
      "nbconvert_exporter": "python",
      "pygments_lexer": "ipython3",
      "version": "3.11.1"
    },
    "orig_nbformat": 4,
    "vscode": {
      "interpreter": {
        "hash": "5026d2d6e7aaaaba093def813beadff083d8733e4a511af01735cbabd156995d"
      }
    }
  },
  "nbformat": 4,
  "nbformat_minor": 0
}
